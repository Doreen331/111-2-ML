{
 "cells": [
  {
   "cell_type": "code",
   "execution_count": 1,
   "source": [
    "#import library/讀資料"
   ],
   "outputs": [],
   "metadata": {}
  },
  {
   "cell_type": "code",
   "execution_count": 2,
   "source": [
    "import joblib"
   ],
   "outputs": [],
   "metadata": {}
  },
  {
   "cell_type": "code",
   "execution_count": 3,
   "source": [
    "model_pretrained=joblib.load('stroke_prediction version1.pkl')"
   ],
   "outputs": [],
   "metadata": {}
  },
  {
   "cell_type": "code",
   "execution_count": 4,
   "source": [
    "import pandas as pd"
   ],
   "outputs": [],
   "metadata": {}
  },
  {
   "cell_type": "code",
   "execution_count": 5,
   "source": [
    "df_test=pd.read_csv(\"data/test.csv\")"
   ],
   "outputs": [],
   "metadata": {}
  },
  {
   "cell_type": "code",
   "execution_count": 6,
   "source": [
    "#對資料做一樣的處理"
   ],
   "outputs": [],
   "metadata": {}
  },
  {
   "cell_type": "code",
   "execution_count": 7,
   "source": [
    "df_test=pd.get_dummies(data=df_test,columns=['gender','ever_married','Residence_type','smoking_status','work_type'])"
   ],
   "outputs": [],
   "metadata": {}
  },
  {
   "cell_type": "code",
   "execution_count": 8,
   "source": [
    "df_test.drop(['ever_married_No','ever_married_Yes'],axis=1,inplace=True)"
   ],
   "outputs": [],
   "metadata": {}
  },
  {
   "cell_type": "code",
   "execution_count": 9,
   "source": [
    "df_test.drop('Residence_type_Rural',axis=1,inplace=True)"
   ],
   "outputs": [],
   "metadata": {}
  },
  {
   "cell_type": "code",
   "execution_count": 10,
   "source": [
    "df_test.head"
   ],
   "outputs": [
    {
     "output_type": "execute_result",
     "data": {
      "text/plain": [
       "<bound method NDFrame.head of           id   age  hypertension  heart_disease  avg_glucose_level   bmi  \\\n",
       "0      15304  57.0             0              0              82.54  33.4   \n",
       "1      15305  70.0             1              0              72.06  28.5   \n",
       "2      15306   5.0             0              0             103.72  19.5   \n",
       "3      15307  56.0             0              0              69.24  41.4   \n",
       "4      15308  32.0             0              0             111.15  30.1   \n",
       "...      ...   ...           ...            ...                ...   ...   \n",
       "10199  25503  27.0             0              0              75.77  17.6   \n",
       "10200  25504  49.0             0              0             102.91  26.7   \n",
       "10201  25505   3.0             0              0             104.04  18.3   \n",
       "10202  25506  31.0             0              0              82.41  28.7   \n",
       "10203  25507   2.0             0              0              85.12  14.8   \n",
       "\n",
       "       gender_Female  gender_Male  gender_Other  Residence_type_Urban  \\\n",
       "0                  1            0             0                     0   \n",
       "1                  0            1             0                     1   \n",
       "2                  1            0             0                     1   \n",
       "3                  1            0             0                     1   \n",
       "4                  0            1             0                     0   \n",
       "...              ...          ...           ...                   ...   \n",
       "10199              1            0             0                     1   \n",
       "10200              0            1             0                     1   \n",
       "10201              1            0             0                     0   \n",
       "10202              0            1             0                     1   \n",
       "10203              1            0             0                     1   \n",
       "\n",
       "       smoking_status_Unknown  smoking_status_formerly smoked  \\\n",
       "0                           1                               0   \n",
       "1                           1                               0   \n",
       "2                           1                               0   \n",
       "3                           0                               0   \n",
       "4                           0                               0   \n",
       "...                       ...                             ...   \n",
       "10199                       0                               0   \n",
       "10200                       1                               0   \n",
       "10201                       1                               0   \n",
       "10202                       0                               0   \n",
       "10203                       1                               0   \n",
       "\n",
       "       smoking_status_never smoked  smoking_status_smokes  work_type_Govt_job  \\\n",
       "0                                0                      0                   0   \n",
       "1                                0                      0                   0   \n",
       "2                                0                      0                   0   \n",
       "3                                0                      1                   1   \n",
       "4                                0                      1                   0   \n",
       "...                            ...                    ...                 ...   \n",
       "10199                            1                      0                   0   \n",
       "10200                            0                      0                   0   \n",
       "10201                            0                      0                   0   \n",
       "10202                            1                      0                   0   \n",
       "10203                            0                      0                   0   \n",
       "\n",
       "       work_type_Never_worked  work_type_Private  work_type_Self-employed  \\\n",
       "0                           0                  1                        0   \n",
       "1                           0                  1                        0   \n",
       "2                           0                  0                        0   \n",
       "3                           0                  0                        0   \n",
       "4                           0                  1                        0   \n",
       "...                       ...                ...                      ...   \n",
       "10199                       0                  1                        0   \n",
       "10200                       0                  1                        0   \n",
       "10201                       0                  0                        0   \n",
       "10202                       0                  1                        0   \n",
       "10203                       0                  0                        0   \n",
       "\n",
       "       work_type_children  \n",
       "0                       0  \n",
       "1                       0  \n",
       "2                       1  \n",
       "3                       0  \n",
       "4                       0  \n",
       "...                   ...  \n",
       "10199                   0  \n",
       "10200                   0  \n",
       "10201                   1  \n",
       "10202                   0  \n",
       "10203                   1  \n",
       "\n",
       "[10204 rows x 19 columns]>"
      ]
     },
     "metadata": {},
     "execution_count": 10
    }
   ],
   "metadata": {}
  },
  {
   "cell_type": "code",
   "execution_count": 11,
   "source": [
    "#預測"
   ],
   "outputs": [],
   "metadata": {}
  },
  {
   "cell_type": "code",
   "execution_count": 12,
   "source": [
    "predictions2 = model_pretrained.predict(df_test)"
   ],
   "outputs": [],
   "metadata": {}
  },
  {
   "cell_type": "code",
   "execution_count": 13,
   "source": [
    "#產生答案要的格式"
   ],
   "outputs": [],
   "metadata": {}
  },
  {
   "cell_type": "code",
   "execution_count": 14,
   "source": [
    "#這個競賽要的模式不需要用dataframe，因此上網查了一下要怎麼印，但礙於目前技術問題無法解決，預期於version2改進"
   ],
   "outputs": [],
   "metadata": {}
  },
  {
   "cell_type": "code",
   "execution_count": 15,
   "source": [
    "forSubmissionDF=pd.DataFrame(columns=['id','stroke'])"
   ],
   "outputs": [],
   "metadata": {}
  },
  {
   "cell_type": "code",
   "execution_count": 16,
   "source": [
    "forSubmissionDF['id']=range(15304,25508)"
   ],
   "outputs": [],
   "metadata": {}
  },
  {
   "cell_type": "code",
   "execution_count": 17,
   "source": [
    "forSubmissionDF['stroke']=predictions2"
   ],
   "outputs": [],
   "metadata": {}
  },
  {
   "cell_type": "code",
   "execution_count": 18,
   "source": [
    "forSubmissionDF"
   ],
   "outputs": [
    {
     "output_type": "execute_result",
     "data": {
      "text/html": [
       "<div>\n",
       "<style scoped>\n",
       "    .dataframe tbody tr th:only-of-type {\n",
       "        vertical-align: middle;\n",
       "    }\n",
       "\n",
       "    .dataframe tbody tr th {\n",
       "        vertical-align: top;\n",
       "    }\n",
       "\n",
       "    .dataframe thead th {\n",
       "        text-align: right;\n",
       "    }\n",
       "</style>\n",
       "<table border=\"1\" class=\"dataframe\">\n",
       "  <thead>\n",
       "    <tr style=\"text-align: right;\">\n",
       "      <th></th>\n",
       "      <th>id</th>\n",
       "      <th>stroke</th>\n",
       "    </tr>\n",
       "  </thead>\n",
       "  <tbody>\n",
       "    <tr>\n",
       "      <th>0</th>\n",
       "      <td>15304</td>\n",
       "      <td>0</td>\n",
       "    </tr>\n",
       "    <tr>\n",
       "      <th>1</th>\n",
       "      <td>15305</td>\n",
       "      <td>0</td>\n",
       "    </tr>\n",
       "    <tr>\n",
       "      <th>2</th>\n",
       "      <td>15306</td>\n",
       "      <td>0</td>\n",
       "    </tr>\n",
       "    <tr>\n",
       "      <th>3</th>\n",
       "      <td>15307</td>\n",
       "      <td>0</td>\n",
       "    </tr>\n",
       "    <tr>\n",
       "      <th>4</th>\n",
       "      <td>15308</td>\n",
       "      <td>0</td>\n",
       "    </tr>\n",
       "    <tr>\n",
       "      <th>...</th>\n",
       "      <td>...</td>\n",
       "      <td>...</td>\n",
       "    </tr>\n",
       "    <tr>\n",
       "      <th>10199</th>\n",
       "      <td>25503</td>\n",
       "      <td>0</td>\n",
       "    </tr>\n",
       "    <tr>\n",
       "      <th>10200</th>\n",
       "      <td>25504</td>\n",
       "      <td>0</td>\n",
       "    </tr>\n",
       "    <tr>\n",
       "      <th>10201</th>\n",
       "      <td>25505</td>\n",
       "      <td>0</td>\n",
       "    </tr>\n",
       "    <tr>\n",
       "      <th>10202</th>\n",
       "      <td>25506</td>\n",
       "      <td>0</td>\n",
       "    </tr>\n",
       "    <tr>\n",
       "      <th>10203</th>\n",
       "      <td>25507</td>\n",
       "      <td>0</td>\n",
       "    </tr>\n",
       "  </tbody>\n",
       "</table>\n",
       "<p>10204 rows × 2 columns</p>\n",
       "</div>"
      ],
      "text/plain": [
       "          id  stroke\n",
       "0      15304       0\n",
       "1      15305       0\n",
       "2      15306       0\n",
       "3      15307       0\n",
       "4      15308       0\n",
       "...      ...     ...\n",
       "10199  25503       0\n",
       "10200  25504       0\n",
       "10201  25505       0\n",
       "10202  25506       0\n",
       "10203  25507       0\n",
       "\n",
       "[10204 rows x 2 columns]"
      ]
     },
     "metadata": {},
     "execution_count": 18
    }
   ],
   "metadata": {}
  },
  {
   "cell_type": "code",
   "execution_count": 21,
   "source": [
    "forSubmissionDF.to_csv('stroke_prediction version1.csv', index=False)"
   ],
   "outputs": [],
   "metadata": {}
  }
 ],
 "nbformat": 4,
 "nbformat_minor": 2,
 "metadata": {
  "language_info": {
   "codemirror_mode": {
    "name": "ipython",
    "version": 3
   },
   "file_extension": ".py",
   "mimetype": "text/x-python",
   "name": "python",
   "nbconvert_exporter": "python",
   "pygments_lexer": "ipython3",
   "version": 3
  },
  "orig_nbformat": 4
 }
}