{
 "cells": [
  {
   "cell_type": "code",
   "execution_count": 1,
   "source": [
    "#import library/讀資料"
   ],
   "outputs": [],
   "metadata": {}
  },
  {
   "cell_type": "code",
   "execution_count": 2,
   "source": [
    "import joblib"
   ],
   "outputs": [],
   "metadata": {}
  },
  {
   "cell_type": "code",
   "execution_count": 3,
   "source": [
    "model_pretrained=joblib.load('stroke_prediction version2.pkl')"
   ],
   "outputs": [],
   "metadata": {}
  },
  {
   "cell_type": "code",
   "execution_count": 4,
   "source": [
    "import pandas as pd"
   ],
   "outputs": [],
   "metadata": {}
  },
  {
   "cell_type": "code",
   "execution_count": 5,
   "source": [
    "df_test=pd.read_csv(\"data/test.csv\")"
   ],
   "outputs": [],
   "metadata": {}
  },
  {
   "cell_type": "code",
   "execution_count": 6,
   "source": [
    "#對資料做一樣的處理"
   ],
   "outputs": [],
   "metadata": {}
  },
  {
   "cell_type": "code",
   "execution_count": 7,
   "source": [
    "df_test=pd.get_dummies(data=df_test,columns=['gender','ever_married','Residence_type','smoking_status','work_type'])"
   ],
   "outputs": [],
   "metadata": {}
  },
  {
   "cell_type": "code",
   "execution_count": 8,
   "source": [
    "df_test.drop(['ever_married_No','ever_married_Yes'],axis=1,inplace=True)"
   ],
   "outputs": [],
   "metadata": {}
  },
  {
   "cell_type": "code",
   "execution_count": 9,
   "source": [
    "df_test.drop('Residence_type_Rural',axis=1,inplace=True)"
   ],
   "outputs": [],
   "metadata": {}
  },
  {
   "cell_type": "code",
   "execution_count": 10,
   "source": [
    "df_test.drop(['gender_Other'],axis=1,inplace=True)#gender_Other只有一人，個數太少，我認為可以刪除他"
   ],
   "outputs": [],
   "metadata": {}
  },
  {
   "cell_type": "code",
   "execution_count": 11,
   "source": [
    "df_test.drop(['smoking_status_Unknown'],axis=1,inplace=True)"
   ],
   "outputs": [],
   "metadata": {}
  },
  {
   "cell_type": "code",
   "execution_count": 12,
   "source": [
    "df_test.drop(['smoking_status_formerly smoked'],axis=1,inplace=True)"
   ],
   "outputs": [],
   "metadata": {}
  },
  {
   "cell_type": "code",
   "execution_count": 13,
   "source": [
    "#抽煙只留抽與不抽"
   ],
   "outputs": [],
   "metadata": {}
  },
  {
   "cell_type": "code",
   "execution_count": 14,
   "source": [
    "df_test.drop(['id'],axis=1,inplace=True)"
   ],
   "outputs": [],
   "metadata": {}
  },
  {
   "cell_type": "code",
   "execution_count": 15,
   "source": [
    "df_test.drop(['work_type_Govt_job'],axis=1,inplace=True)"
   ],
   "outputs": [],
   "metadata": {}
  },
  {
   "cell_type": "code",
   "execution_count": 16,
   "source": [
    "df_test.drop(['work_type_Never_worked'],axis=1,inplace=True)"
   ],
   "outputs": [],
   "metadata": {}
  },
  {
   "cell_type": "code",
   "execution_count": 17,
   "source": [
    "df_test.drop(['work_type_Private'],axis=1,inplace=True)"
   ],
   "outputs": [],
   "metadata": {}
  },
  {
   "cell_type": "code",
   "execution_count": 18,
   "source": [
    "df_test.drop(['work_type_Self-employed'],axis=1,inplace=True)"
   ],
   "outputs": [],
   "metadata": {}
  },
  {
   "cell_type": "code",
   "execution_count": 19,
   "source": [
    "df_test.drop(['work_type_children'],axis=1,inplace=True)"
   ],
   "outputs": [],
   "metadata": {}
  },
  {
   "cell_type": "code",
   "execution_count": 20,
   "source": [
    "#移除工作類型欄位"
   ],
   "outputs": [],
   "metadata": {}
  },
  {
   "cell_type": "code",
   "execution_count": 21,
   "source": [
    "df_test.drop('gender_Female',axis=1,inplace=True)"
   ],
   "outputs": [],
   "metadata": {}
  },
  {
   "cell_type": "code",
   "execution_count": 22,
   "source": [
    "df_test.head"
   ],
   "outputs": [
    {
     "output_type": "execute_result",
     "data": {
      "text/plain": [
       "<bound method NDFrame.head of         age  hypertension  heart_disease  avg_glucose_level   bmi  \\\n",
       "0      57.0             0              0              82.54  33.4   \n",
       "1      70.0             1              0              72.06  28.5   \n",
       "2       5.0             0              0             103.72  19.5   \n",
       "3      56.0             0              0              69.24  41.4   \n",
       "4      32.0             0              0             111.15  30.1   \n",
       "...     ...           ...            ...                ...   ...   \n",
       "10199  27.0             0              0              75.77  17.6   \n",
       "10200  49.0             0              0             102.91  26.7   \n",
       "10201   3.0             0              0             104.04  18.3   \n",
       "10202  31.0             0              0              82.41  28.7   \n",
       "10203   2.0             0              0              85.12  14.8   \n",
       "\n",
       "       gender_Male  Residence_type_Urban  smoking_status_never smoked  \\\n",
       "0                0                     0                            0   \n",
       "1                1                     1                            0   \n",
       "2                0                     1                            0   \n",
       "3                0                     1                            0   \n",
       "4                1                     0                            0   \n",
       "...            ...                   ...                          ...   \n",
       "10199            0                     1                            1   \n",
       "10200            1                     1                            0   \n",
       "10201            0                     0                            0   \n",
       "10202            1                     1                            1   \n",
       "10203            0                     1                            0   \n",
       "\n",
       "       smoking_status_smokes  \n",
       "0                          0  \n",
       "1                          0  \n",
       "2                          0  \n",
       "3                          1  \n",
       "4                          1  \n",
       "...                      ...  \n",
       "10199                      0  \n",
       "10200                      0  \n",
       "10201                      0  \n",
       "10202                      0  \n",
       "10203                      0  \n",
       "\n",
       "[10204 rows x 9 columns]>"
      ]
     },
     "metadata": {},
     "execution_count": 22
    }
   ],
   "metadata": {}
  },
  {
   "cell_type": "code",
   "execution_count": 23,
   "source": [
    "#預測"
   ],
   "outputs": [],
   "metadata": {}
  },
  {
   "cell_type": "code",
   "execution_count": 24,
   "source": [
    "predictions2 = model_pretrained.predict(df_test)"
   ],
   "outputs": [],
   "metadata": {}
  },
  {
   "cell_type": "code",
   "execution_count": 25,
   "source": [
    "#產生答案要的格式"
   ],
   "outputs": [],
   "metadata": {}
  },
  {
   "cell_type": "code",
   "execution_count": 26,
   "source": [
    "#改良version1，產生答案要的格式"
   ],
   "outputs": [],
   "metadata": {}
  },
  {
   "cell_type": "code",
   "execution_count": 27,
   "source": [
    "#參考：https://ithelp.ithome.com.tw/articles/10208817"
   ],
   "outputs": [],
   "metadata": {}
  },
  {
   "cell_type": "code",
   "execution_count": 28,
   "source": [
    "Ser1=pd.Series(range(15304,25508))"
   ],
   "outputs": [],
   "metadata": {}
  },
  {
   "cell_type": "code",
   "execution_count": 29,
   "source": [
    "Ser2=predictions2"
   ],
   "outputs": [],
   "metadata": {}
  },
  {
   "cell_type": "code",
   "execution_count": 30,
   "source": [
    "d = pd.DataFrame({'id':Ser1, 'stroke':Ser2})"
   ],
   "outputs": [],
   "metadata": {}
  },
  {
   "cell_type": "code",
   "execution_count": 31,
   "source": [
    "print(d)"
   ],
   "outputs": [
    {
     "output_type": "stream",
     "name": "stdout",
     "text": [
      "          id  stroke\n",
      "0      15304       0\n",
      "1      15305       0\n",
      "2      15306       0\n",
      "3      15307       0\n",
      "4      15308       0\n",
      "...      ...     ...\n",
      "10199  25503       0\n",
      "10200  25504       0\n",
      "10201  25505       0\n",
      "10202  25506       0\n",
      "10203  25507       0\n",
      "\n",
      "[10204 rows x 2 columns]\n"
     ]
    }
   ],
   "metadata": {}
  },
  {
   "cell_type": "code",
   "execution_count": 32,
   "source": [
    "d.to_csv('stroke_prediction version2.csv', index=False)"
   ],
   "outputs": [],
   "metadata": {}
  }
 ],
 "nbformat": 4,
 "nbformat_minor": 2,
 "metadata": {
  "language_info": {
   "codemirror_mode": {
    "name": "ipython",
    "version": 3
   },
   "file_extension": ".py",
   "mimetype": "text/x-python",
   "name": "python",
   "nbconvert_exporter": "python",
   "pygments_lexer": "ipython3",
   "version": 3
  },
  "orig_nbformat": 4
 }
}