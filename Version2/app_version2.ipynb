{
 "cells": [
  {
   "cell_type": "code",
   "execution_count": 1,
   "source": [
    "#因為version1的準確率實在有點淒慘，我決定再嘗試不同的欄位組合"
   ],
   "outputs": [],
   "metadata": {}
  },
  {
   "cell_type": "code",
   "execution_count": 2,
   "source": [
    "#import library"
   ],
   "outputs": [],
   "metadata": {}
  },
  {
   "cell_type": "code",
   "execution_count": 3,
   "source": [
    "import pandas as pd"
   ],
   "outputs": [],
   "metadata": {}
  },
  {
   "cell_type": "code",
   "execution_count": 4,
   "source": [
    "import numpy as np"
   ],
   "outputs": [],
   "metadata": {}
  },
  {
   "cell_type": "code",
   "execution_count": 5,
   "source": [
    "import matplotlib as plt"
   ],
   "outputs": [],
   "metadata": {}
  },
  {
   "cell_type": "code",
   "execution_count": 6,
   "source": [
    "import seaborn as sns"
   ],
   "outputs": [],
   "metadata": {}
  },
  {
   "cell_type": "code",
   "execution_count": 7,
   "source": [
    "import matplotlib.pyplot as plt"
   ],
   "outputs": [],
   "metadata": {}
  },
  {
   "cell_type": "code",
   "execution_count": 8,
   "source": [
    "#讀資料"
   ],
   "outputs": [],
   "metadata": {}
  },
  {
   "cell_type": "code",
   "execution_count": 9,
   "source": [
    "df = pd.read_csv(\"data/train.csv\")"
   ],
   "outputs": [],
   "metadata": {}
  },
  {
   "cell_type": "code",
   "execution_count": 10,
   "source": [
    "df.head(10)"
   ],
   "outputs": [
    {
     "output_type": "execute_result",
     "data": {
      "text/html": [
       "<div>\n",
       "<style scoped>\n",
       "    .dataframe tbody tr th:only-of-type {\n",
       "        vertical-align: middle;\n",
       "    }\n",
       "\n",
       "    .dataframe tbody tr th {\n",
       "        vertical-align: top;\n",
       "    }\n",
       "\n",
       "    .dataframe thead th {\n",
       "        text-align: right;\n",
       "    }\n",
       "</style>\n",
       "<table border=\"1\" class=\"dataframe\">\n",
       "  <thead>\n",
       "    <tr style=\"text-align: right;\">\n",
       "      <th></th>\n",
       "      <th>id</th>\n",
       "      <th>gender</th>\n",
       "      <th>age</th>\n",
       "      <th>hypertension</th>\n",
       "      <th>heart_disease</th>\n",
       "      <th>ever_married</th>\n",
       "      <th>work_type</th>\n",
       "      <th>Residence_type</th>\n",
       "      <th>avg_glucose_level</th>\n",
       "      <th>bmi</th>\n",
       "      <th>smoking_status</th>\n",
       "      <th>stroke</th>\n",
       "    </tr>\n",
       "  </thead>\n",
       "  <tbody>\n",
       "    <tr>\n",
       "      <th>0</th>\n",
       "      <td>0</td>\n",
       "      <td>Male</td>\n",
       "      <td>28.0</td>\n",
       "      <td>0</td>\n",
       "      <td>0</td>\n",
       "      <td>Yes</td>\n",
       "      <td>Private</td>\n",
       "      <td>Urban</td>\n",
       "      <td>79.53</td>\n",
       "      <td>31.1</td>\n",
       "      <td>never smoked</td>\n",
       "      <td>0</td>\n",
       "    </tr>\n",
       "    <tr>\n",
       "      <th>1</th>\n",
       "      <td>1</td>\n",
       "      <td>Male</td>\n",
       "      <td>33.0</td>\n",
       "      <td>0</td>\n",
       "      <td>0</td>\n",
       "      <td>Yes</td>\n",
       "      <td>Private</td>\n",
       "      <td>Rural</td>\n",
       "      <td>78.44</td>\n",
       "      <td>23.9</td>\n",
       "      <td>formerly smoked</td>\n",
       "      <td>0</td>\n",
       "    </tr>\n",
       "    <tr>\n",
       "      <th>2</th>\n",
       "      <td>2</td>\n",
       "      <td>Female</td>\n",
       "      <td>42.0</td>\n",
       "      <td>0</td>\n",
       "      <td>0</td>\n",
       "      <td>Yes</td>\n",
       "      <td>Private</td>\n",
       "      <td>Rural</td>\n",
       "      <td>103.00</td>\n",
       "      <td>40.3</td>\n",
       "      <td>Unknown</td>\n",
       "      <td>0</td>\n",
       "    </tr>\n",
       "    <tr>\n",
       "      <th>3</th>\n",
       "      <td>3</td>\n",
       "      <td>Male</td>\n",
       "      <td>56.0</td>\n",
       "      <td>0</td>\n",
       "      <td>0</td>\n",
       "      <td>Yes</td>\n",
       "      <td>Private</td>\n",
       "      <td>Urban</td>\n",
       "      <td>64.87</td>\n",
       "      <td>28.8</td>\n",
       "      <td>never smoked</td>\n",
       "      <td>0</td>\n",
       "    </tr>\n",
       "    <tr>\n",
       "      <th>4</th>\n",
       "      <td>4</td>\n",
       "      <td>Female</td>\n",
       "      <td>24.0</td>\n",
       "      <td>0</td>\n",
       "      <td>0</td>\n",
       "      <td>No</td>\n",
       "      <td>Private</td>\n",
       "      <td>Rural</td>\n",
       "      <td>73.36</td>\n",
       "      <td>28.8</td>\n",
       "      <td>never smoked</td>\n",
       "      <td>0</td>\n",
       "    </tr>\n",
       "    <tr>\n",
       "      <th>5</th>\n",
       "      <td>5</td>\n",
       "      <td>Female</td>\n",
       "      <td>34.0</td>\n",
       "      <td>0</td>\n",
       "      <td>0</td>\n",
       "      <td>Yes</td>\n",
       "      <td>Private</td>\n",
       "      <td>Urban</td>\n",
       "      <td>84.35</td>\n",
       "      <td>22.2</td>\n",
       "      <td>Unknown</td>\n",
       "      <td>0</td>\n",
       "    </tr>\n",
       "    <tr>\n",
       "      <th>6</th>\n",
       "      <td>6</td>\n",
       "      <td>Female</td>\n",
       "      <td>53.0</td>\n",
       "      <td>0</td>\n",
       "      <td>0</td>\n",
       "      <td>Yes</td>\n",
       "      <td>Private</td>\n",
       "      <td>Rural</td>\n",
       "      <td>88.97</td>\n",
       "      <td>25.3</td>\n",
       "      <td>never smoked</td>\n",
       "      <td>0</td>\n",
       "    </tr>\n",
       "    <tr>\n",
       "      <th>7</th>\n",
       "      <td>7</td>\n",
       "      <td>Male</td>\n",
       "      <td>78.0</td>\n",
       "      <td>0</td>\n",
       "      <td>1</td>\n",
       "      <td>Yes</td>\n",
       "      <td>Self-employed</td>\n",
       "      <td>Rural</td>\n",
       "      <td>75.32</td>\n",
       "      <td>24.8</td>\n",
       "      <td>Unknown</td>\n",
       "      <td>0</td>\n",
       "    </tr>\n",
       "    <tr>\n",
       "      <th>8</th>\n",
       "      <td>8</td>\n",
       "      <td>Female</td>\n",
       "      <td>45.0</td>\n",
       "      <td>0</td>\n",
       "      <td>0</td>\n",
       "      <td>Yes</td>\n",
       "      <td>Private</td>\n",
       "      <td>Rural</td>\n",
       "      <td>107.22</td>\n",
       "      <td>34.1</td>\n",
       "      <td>never smoked</td>\n",
       "      <td>0</td>\n",
       "    </tr>\n",
       "    <tr>\n",
       "      <th>9</th>\n",
       "      <td>9</td>\n",
       "      <td>Female</td>\n",
       "      <td>62.0</td>\n",
       "      <td>0</td>\n",
       "      <td>0</td>\n",
       "      <td>Yes</td>\n",
       "      <td>Govt_job</td>\n",
       "      <td>Urban</td>\n",
       "      <td>62.68</td>\n",
       "      <td>18.4</td>\n",
       "      <td>formerly smoked</td>\n",
       "      <td>0</td>\n",
       "    </tr>\n",
       "  </tbody>\n",
       "</table>\n",
       "</div>"
      ],
      "text/plain": [
       "   id  gender   age  hypertension  heart_disease ever_married      work_type  \\\n",
       "0   0    Male  28.0             0              0          Yes        Private   \n",
       "1   1    Male  33.0             0              0          Yes        Private   \n",
       "2   2  Female  42.0             0              0          Yes        Private   \n",
       "3   3    Male  56.0             0              0          Yes        Private   \n",
       "4   4  Female  24.0             0              0           No        Private   \n",
       "5   5  Female  34.0             0              0          Yes        Private   \n",
       "6   6  Female  53.0             0              0          Yes        Private   \n",
       "7   7    Male  78.0             0              1          Yes  Self-employed   \n",
       "8   8  Female  45.0             0              0          Yes        Private   \n",
       "9   9  Female  62.0             0              0          Yes       Govt_job   \n",
       "\n",
       "  Residence_type  avg_glucose_level   bmi   smoking_status  stroke  \n",
       "0          Urban              79.53  31.1     never smoked       0  \n",
       "1          Rural              78.44  23.9  formerly smoked       0  \n",
       "2          Rural             103.00  40.3          Unknown       0  \n",
       "3          Urban              64.87  28.8     never smoked       0  \n",
       "4          Rural              73.36  28.8     never smoked       0  \n",
       "5          Urban              84.35  22.2          Unknown       0  \n",
       "6          Rural              88.97  25.3     never smoked       0  \n",
       "7          Rural              75.32  24.8          Unknown       0  \n",
       "8          Rural             107.22  34.1     never smoked       0  \n",
       "9          Urban              62.68  18.4  formerly smoked       0  "
      ]
     },
     "metadata": {},
     "execution_count": 10
    }
   ],
   "metadata": {}
  },
  {
   "cell_type": "code",
   "execution_count": 11,
   "source": [
    "df.info()"
   ],
   "outputs": [
    {
     "output_type": "stream",
     "name": "stdout",
     "text": [
      "<class 'pandas.core.frame.DataFrame'>\n",
      "RangeIndex: 15304 entries, 0 to 15303\n",
      "Data columns (total 12 columns):\n",
      " #   Column             Non-Null Count  Dtype  \n",
      "---  ------             --------------  -----  \n",
      " 0   id                 15304 non-null  int64  \n",
      " 1   gender             15304 non-null  object \n",
      " 2   age                15304 non-null  float64\n",
      " 3   hypertension       15304 non-null  int64  \n",
      " 4   heart_disease      15304 non-null  int64  \n",
      " 5   ever_married       15304 non-null  object \n",
      " 6   work_type          15304 non-null  object \n",
      " 7   Residence_type     15304 non-null  object \n",
      " 8   avg_glucose_level  15304 non-null  float64\n",
      " 9   bmi                15304 non-null  float64\n",
      " 10  smoking_status     15304 non-null  object \n",
      " 11  stroke             15304 non-null  int64  \n",
      "dtypes: float64(3), int64(4), object(5)\n",
      "memory usage: 1.4+ MB\n"
     ]
    }
   ],
   "metadata": {}
  },
  {
   "cell_type": "code",
   "execution_count": 12,
   "source": [
    "# 都沒缺值"
   ],
   "outputs": [],
   "metadata": {}
  },
  {
   "cell_type": "code",
   "execution_count": 13,
   "source": [
    "#先把型態換成數值再來觀察各欄位與中風的關聯"
   ],
   "outputs": [],
   "metadata": {}
  },
  {
   "cell_type": "code",
   "execution_count": 14,
   "source": [
    "df=pd.get_dummies(data=df,columns=['gender','ever_married','Residence_type','smoking_status','work_type'])"
   ],
   "outputs": [],
   "metadata": {}
  },
  {
   "cell_type": "code",
   "execution_count": 15,
   "source": [
    "df.info()"
   ],
   "outputs": [
    {
     "output_type": "stream",
     "name": "stdout",
     "text": [
      "<class 'pandas.core.frame.DataFrame'>\n",
      "RangeIndex: 15304 entries, 0 to 15303\n",
      "Data columns (total 23 columns):\n",
      " #   Column                          Non-Null Count  Dtype  \n",
      "---  ------                          --------------  -----  \n",
      " 0   id                              15304 non-null  int64  \n",
      " 1   age                             15304 non-null  float64\n",
      " 2   hypertension                    15304 non-null  int64  \n",
      " 3   heart_disease                   15304 non-null  int64  \n",
      " 4   avg_glucose_level               15304 non-null  float64\n",
      " 5   bmi                             15304 non-null  float64\n",
      " 6   stroke                          15304 non-null  int64  \n",
      " 7   gender_Female                   15304 non-null  uint8  \n",
      " 8   gender_Male                     15304 non-null  uint8  \n",
      " 9   gender_Other                    15304 non-null  uint8  \n",
      " 10  ever_married_No                 15304 non-null  uint8  \n",
      " 11  ever_married_Yes                15304 non-null  uint8  \n",
      " 12  Residence_type_Rural            15304 non-null  uint8  \n",
      " 13  Residence_type_Urban            15304 non-null  uint8  \n",
      " 14  smoking_status_Unknown          15304 non-null  uint8  \n",
      " 15  smoking_status_formerly smoked  15304 non-null  uint8  \n",
      " 16  smoking_status_never smoked     15304 non-null  uint8  \n",
      " 17  smoking_status_smokes           15304 non-null  uint8  \n",
      " 18  work_type_Govt_job              15304 non-null  uint8  \n",
      " 19  work_type_Never_worked          15304 non-null  uint8  \n",
      " 20  work_type_Private               15304 non-null  uint8  \n",
      " 21  work_type_Self-employed         15304 non-null  uint8  \n",
      " 22  work_type_children              15304 non-null  uint8  \n",
      "dtypes: float64(3), int64(4), uint8(16)\n",
      "memory usage: 1.1 MB\n"
     ]
    }
   ],
   "metadata": {}
  },
  {
   "cell_type": "code",
   "execution_count": 16,
   "source": [
    "df.groupby('stroke').mean()"
   ],
   "outputs": [
    {
     "output_type": "execute_result",
     "data": {
      "text/html": [
       "<div>\n",
       "<style scoped>\n",
       "    .dataframe tbody tr th:only-of-type {\n",
       "        vertical-align: middle;\n",
       "    }\n",
       "\n",
       "    .dataframe tbody tr th {\n",
       "        vertical-align: top;\n",
       "    }\n",
       "\n",
       "    .dataframe thead th {\n",
       "        text-align: right;\n",
       "    }\n",
       "</style>\n",
       "<table border=\"1\" class=\"dataframe\">\n",
       "  <thead>\n",
       "    <tr style=\"text-align: right;\">\n",
       "      <th></th>\n",
       "      <th>id</th>\n",
       "      <th>age</th>\n",
       "      <th>hypertension</th>\n",
       "      <th>heart_disease</th>\n",
       "      <th>avg_glucose_level</th>\n",
       "      <th>bmi</th>\n",
       "      <th>gender_Female</th>\n",
       "      <th>gender_Male</th>\n",
       "      <th>gender_Other</th>\n",
       "      <th>ever_married_No</th>\n",
       "      <th>...</th>\n",
       "      <th>Residence_type_Urban</th>\n",
       "      <th>smoking_status_Unknown</th>\n",
       "      <th>smoking_status_formerly smoked</th>\n",
       "      <th>smoking_status_never smoked</th>\n",
       "      <th>smoking_status_smokes</th>\n",
       "      <th>work_type_Govt_job</th>\n",
       "      <th>work_type_Never_worked</th>\n",
       "      <th>work_type_Private</th>\n",
       "      <th>work_type_Self-employed</th>\n",
       "      <th>work_type_children</th>\n",
       "    </tr>\n",
       "    <tr>\n",
       "      <th>stroke</th>\n",
       "      <th></th>\n",
       "      <th></th>\n",
       "      <th></th>\n",
       "      <th></th>\n",
       "      <th></th>\n",
       "      <th></th>\n",
       "      <th></th>\n",
       "      <th></th>\n",
       "      <th></th>\n",
       "      <th></th>\n",
       "      <th></th>\n",
       "      <th></th>\n",
       "      <th></th>\n",
       "      <th></th>\n",
       "      <th></th>\n",
       "      <th></th>\n",
       "      <th></th>\n",
       "      <th></th>\n",
       "      <th></th>\n",
       "      <th></th>\n",
       "      <th></th>\n",
       "    </tr>\n",
       "  </thead>\n",
       "  <tbody>\n",
       "    <tr>\n",
       "      <th>0</th>\n",
       "      <td>7667.353394</td>\n",
       "      <td>40.254676</td>\n",
       "      <td>0.043143</td>\n",
       "      <td>0.019834</td>\n",
       "      <td>88.250602</td>\n",
       "      <td>28.021489</td>\n",
       "      <td>0.618730</td>\n",
       "      <td>0.381202</td>\n",
       "      <td>0.000068</td>\n",
       "      <td>0.332470</td>\n",
       "      <td>...</td>\n",
       "      <td>0.499250</td>\n",
       "      <td>0.302276</td>\n",
       "      <td>0.148446</td>\n",
       "      <td>0.410578</td>\n",
       "      <td>0.138700</td>\n",
       "      <td>0.099782</td>\n",
       "      <td>0.002863</td>\n",
       "      <td>0.637132</td>\n",
       "      <td>0.121388</td>\n",
       "      <td>0.138836</td>\n",
       "    </tr>\n",
       "    <tr>\n",
       "      <th>1</th>\n",
       "      <td>7283.460443</td>\n",
       "      <td>68.417722</td>\n",
       "      <td>0.202532</td>\n",
       "      <td>0.104430</td>\n",
       "      <td>107.362468</td>\n",
       "      <td>30.230696</td>\n",
       "      <td>0.582278</td>\n",
       "      <td>0.417722</td>\n",
       "      <td>0.000000</td>\n",
       "      <td>0.064873</td>\n",
       "      <td>...</td>\n",
       "      <td>0.498418</td>\n",
       "      <td>0.170886</td>\n",
       "      <td>0.251582</td>\n",
       "      <td>0.406646</td>\n",
       "      <td>0.170886</td>\n",
       "      <td>0.109177</td>\n",
       "      <td>0.000000</td>\n",
       "      <td>0.639241</td>\n",
       "      <td>0.250000</td>\n",
       "      <td>0.001582</td>\n",
       "    </tr>\n",
       "  </tbody>\n",
       "</table>\n",
       "<p>2 rows × 22 columns</p>\n",
       "</div>"
      ],
      "text/plain": [
       "                 id        age  hypertension  heart_disease  \\\n",
       "stroke                                                        \n",
       "0       7667.353394  40.254676      0.043143       0.019834   \n",
       "1       7283.460443  68.417722      0.202532       0.104430   \n",
       "\n",
       "        avg_glucose_level        bmi  gender_Female  gender_Male  \\\n",
       "stroke                                                             \n",
       "0               88.250602  28.021489       0.618730     0.381202   \n",
       "1              107.362468  30.230696       0.582278     0.417722   \n",
       "\n",
       "        gender_Other  ever_married_No  ...  Residence_type_Urban  \\\n",
       "stroke                                 ...                         \n",
       "0           0.000068         0.332470  ...              0.499250   \n",
       "1           0.000000         0.064873  ...              0.498418   \n",
       "\n",
       "        smoking_status_Unknown  smoking_status_formerly smoked  \\\n",
       "stroke                                                           \n",
       "0                     0.302276                        0.148446   \n",
       "1                     0.170886                        0.251582   \n",
       "\n",
       "        smoking_status_never smoked  smoking_status_smokes  \\\n",
       "stroke                                                       \n",
       "0                          0.410578               0.138700   \n",
       "1                          0.406646               0.170886   \n",
       "\n",
       "        work_type_Govt_job  work_type_Never_worked  work_type_Private  \\\n",
       "stroke                                                                  \n",
       "0                 0.099782                0.002863           0.637132   \n",
       "1                 0.109177                0.000000           0.639241   \n",
       "\n",
       "        work_type_Self-employed  work_type_children  \n",
       "stroke                                               \n",
       "0                      0.121388            0.138836  \n",
       "1                      0.250000            0.001582  \n",
       "\n",
       "[2 rows x 22 columns]"
      ]
     },
     "metadata": {},
     "execution_count": 16
    }
   ],
   "metadata": {}
  },
  {
   "cell_type": "code",
   "execution_count": 17,
   "source": [
    "#中風的人年紀平均比較大，血壓比較高，比較多有心臟病，葡萄糖、Bmi比較高"
   ],
   "outputs": [],
   "metadata": {}
  },
  {
   "cell_type": "code",
   "execution_count": 18,
   "source": [
    "df['gender_Other'].value_counts()"
   ],
   "outputs": [
    {
     "output_type": "execute_result",
     "data": {
      "text/plain": [
       "0    15303\n",
       "1        1\n",
       "Name: gender_Other, dtype: int64"
      ]
     },
     "metadata": {},
     "execution_count": 18
    }
   ],
   "metadata": {}
  },
  {
   "cell_type": "code",
   "execution_count": 19,
   "source": [
    "#gender_Other只有一人"
   ],
   "outputs": [],
   "metadata": {}
  },
  {
   "cell_type": "code",
   "execution_count": 20,
   "source": [
    "#開始預測！移除我覺得沒關聯的欄位"
   ],
   "outputs": [],
   "metadata": {}
  },
  {
   "cell_type": "code",
   "execution_count": 21,
   "source": [
    "df.drop(['ever_married_No','ever_married_Yes'],axis=1,inplace=True)"
   ],
   "outputs": [],
   "metadata": {}
  },
  {
   "cell_type": "code",
   "execution_count": 22,
   "source": [
    "df.drop(['gender_Other'],axis=1,inplace=True)#gender_Other只有一人，個數太少，我認為可以刪除他"
   ],
   "outputs": [],
   "metadata": {}
  },
  {
   "cell_type": "code",
   "execution_count": 23,
   "source": [
    "df.drop(['smoking_status_formerly smoked'],axis=1,inplace=True)"
   ],
   "outputs": [],
   "metadata": {}
  },
  {
   "cell_type": "code",
   "execution_count": 24,
   "source": [
    "df.drop(['smoking_status_Unknown'],axis=1,inplace=True)"
   ],
   "outputs": [],
   "metadata": {}
  },
  {
   "cell_type": "code",
   "execution_count": 25,
   "source": [
    "#抽煙只留抽與不抽"
   ],
   "outputs": [],
   "metadata": {}
  },
  {
   "cell_type": "code",
   "execution_count": 26,
   "source": [
    "df.drop(['id'],axis=1,inplace=True)"
   ],
   "outputs": [],
   "metadata": {}
  },
  {
   "cell_type": "code",
   "execution_count": 27,
   "source": [
    "#移除id類型欄位"
   ],
   "outputs": [],
   "metadata": {}
  },
  {
   "cell_type": "code",
   "execution_count": 28,
   "source": [
    "df.drop(['work_type_Govt_job'],axis=1,inplace=True)"
   ],
   "outputs": [],
   "metadata": {}
  },
  {
   "cell_type": "code",
   "execution_count": 29,
   "source": [
    "df.drop(['work_type_Never_worked'],axis=1,inplace=True)"
   ],
   "outputs": [],
   "metadata": {}
  },
  {
   "cell_type": "code",
   "execution_count": 30,
   "source": [
    "df.drop(['work_type_Private'],axis=1,inplace=True)"
   ],
   "outputs": [],
   "metadata": {}
  },
  {
   "cell_type": "code",
   "execution_count": 31,
   "source": [
    "df.drop(['work_type_Self-employed'],axis=1,inplace=True)"
   ],
   "outputs": [],
   "metadata": {}
  },
  {
   "cell_type": "code",
   "execution_count": 32,
   "source": [
    "df.drop(['work_type_children'],axis=1,inplace=True)"
   ],
   "outputs": [],
   "metadata": {}
  },
  {
   "cell_type": "code",
   "execution_count": 33,
   "source": [
    "#移除工作類型欄位"
   ],
   "outputs": [],
   "metadata": {}
  },
  {
   "cell_type": "code",
   "execution_count": 34,
   "source": [
    "#看有沒有多餘的欄位要刪除"
   ],
   "outputs": [],
   "metadata": {}
  },
  {
   "cell_type": "code",
   "execution_count": 35,
   "source": [
    "df.head()"
   ],
   "outputs": [
    {
     "output_type": "execute_result",
     "data": {
      "text/html": [
       "<div>\n",
       "<style scoped>\n",
       "    .dataframe tbody tr th:only-of-type {\n",
       "        vertical-align: middle;\n",
       "    }\n",
       "\n",
       "    .dataframe tbody tr th {\n",
       "        vertical-align: top;\n",
       "    }\n",
       "\n",
       "    .dataframe thead th {\n",
       "        text-align: right;\n",
       "    }\n",
       "</style>\n",
       "<table border=\"1\" class=\"dataframe\">\n",
       "  <thead>\n",
       "    <tr style=\"text-align: right;\">\n",
       "      <th></th>\n",
       "      <th>age</th>\n",
       "      <th>hypertension</th>\n",
       "      <th>heart_disease</th>\n",
       "      <th>avg_glucose_level</th>\n",
       "      <th>bmi</th>\n",
       "      <th>stroke</th>\n",
       "      <th>gender_Female</th>\n",
       "      <th>gender_Male</th>\n",
       "      <th>Residence_type_Rural</th>\n",
       "      <th>Residence_type_Urban</th>\n",
       "      <th>smoking_status_never smoked</th>\n",
       "      <th>smoking_status_smokes</th>\n",
       "    </tr>\n",
       "  </thead>\n",
       "  <tbody>\n",
       "    <tr>\n",
       "      <th>0</th>\n",
       "      <td>28.0</td>\n",
       "      <td>0</td>\n",
       "      <td>0</td>\n",
       "      <td>79.53</td>\n",
       "      <td>31.1</td>\n",
       "      <td>0</td>\n",
       "      <td>0</td>\n",
       "      <td>1</td>\n",
       "      <td>0</td>\n",
       "      <td>1</td>\n",
       "      <td>1</td>\n",
       "      <td>0</td>\n",
       "    </tr>\n",
       "    <tr>\n",
       "      <th>1</th>\n",
       "      <td>33.0</td>\n",
       "      <td>0</td>\n",
       "      <td>0</td>\n",
       "      <td>78.44</td>\n",
       "      <td>23.9</td>\n",
       "      <td>0</td>\n",
       "      <td>0</td>\n",
       "      <td>1</td>\n",
       "      <td>1</td>\n",
       "      <td>0</td>\n",
       "      <td>0</td>\n",
       "      <td>0</td>\n",
       "    </tr>\n",
       "    <tr>\n",
       "      <th>2</th>\n",
       "      <td>42.0</td>\n",
       "      <td>0</td>\n",
       "      <td>0</td>\n",
       "      <td>103.00</td>\n",
       "      <td>40.3</td>\n",
       "      <td>0</td>\n",
       "      <td>1</td>\n",
       "      <td>0</td>\n",
       "      <td>1</td>\n",
       "      <td>0</td>\n",
       "      <td>0</td>\n",
       "      <td>0</td>\n",
       "    </tr>\n",
       "    <tr>\n",
       "      <th>3</th>\n",
       "      <td>56.0</td>\n",
       "      <td>0</td>\n",
       "      <td>0</td>\n",
       "      <td>64.87</td>\n",
       "      <td>28.8</td>\n",
       "      <td>0</td>\n",
       "      <td>0</td>\n",
       "      <td>1</td>\n",
       "      <td>0</td>\n",
       "      <td>1</td>\n",
       "      <td>1</td>\n",
       "      <td>0</td>\n",
       "    </tr>\n",
       "    <tr>\n",
       "      <th>4</th>\n",
       "      <td>24.0</td>\n",
       "      <td>0</td>\n",
       "      <td>0</td>\n",
       "      <td>73.36</td>\n",
       "      <td>28.8</td>\n",
       "      <td>0</td>\n",
       "      <td>1</td>\n",
       "      <td>0</td>\n",
       "      <td>1</td>\n",
       "      <td>0</td>\n",
       "      <td>1</td>\n",
       "      <td>0</td>\n",
       "    </tr>\n",
       "  </tbody>\n",
       "</table>\n",
       "</div>"
      ],
      "text/plain": [
       "    age  hypertension  heart_disease  avg_glucose_level   bmi  stroke  \\\n",
       "0  28.0             0              0              79.53  31.1       0   \n",
       "1  33.0             0              0              78.44  23.9       0   \n",
       "2  42.0             0              0             103.00  40.3       0   \n",
       "3  56.0             0              0              64.87  28.8       0   \n",
       "4  24.0             0              0              73.36  28.8       0   \n",
       "\n",
       "   gender_Female  gender_Male  Residence_type_Rural  Residence_type_Urban  \\\n",
       "0              0            1                     0                     1   \n",
       "1              0            1                     1                     0   \n",
       "2              1            0                     1                     0   \n",
       "3              0            1                     0                     1   \n",
       "4              1            0                     1                     0   \n",
       "\n",
       "   smoking_status_never smoked  smoking_status_smokes  \n",
       "0                            1                      0  \n",
       "1                            0                      0  \n",
       "2                            0                      0  \n",
       "3                            1                      0  \n",
       "4                            1                      0  "
      ]
     },
     "metadata": {},
     "execution_count": 35
    }
   ],
   "metadata": {}
  },
  {
   "cell_type": "code",
   "execution_count": 36,
   "source": [
    "df.drop('Residence_type_Rural',axis=1,inplace=True)"
   ],
   "outputs": [],
   "metadata": {}
  },
  {
   "cell_type": "code",
   "execution_count": 37,
   "source": [
    "#住在鄉下或都市只要留一個就好，留下是否住在都市"
   ],
   "outputs": [],
   "metadata": {}
  },
  {
   "cell_type": "code",
   "execution_count": 38,
   "source": [
    "df.drop('gender_Female',axis=1,inplace=True)"
   ],
   "outputs": [],
   "metadata": {}
  },
  {
   "cell_type": "code",
   "execution_count": 39,
   "source": [
    "#性別只要留一個就好"
   ],
   "outputs": [],
   "metadata": {}
  },
  {
   "cell_type": "code",
   "execution_count": 40,
   "source": [
    "df.corr()"
   ],
   "outputs": [
    {
     "output_type": "execute_result",
     "data": {
      "text/html": [
       "<div>\n",
       "<style scoped>\n",
       "    .dataframe tbody tr th:only-of-type {\n",
       "        vertical-align: middle;\n",
       "    }\n",
       "\n",
       "    .dataframe tbody tr th {\n",
       "        vertical-align: top;\n",
       "    }\n",
       "\n",
       "    .dataframe thead th {\n",
       "        text-align: right;\n",
       "    }\n",
       "</style>\n",
       "<table border=\"1\" class=\"dataframe\">\n",
       "  <thead>\n",
       "    <tr style=\"text-align: right;\">\n",
       "      <th></th>\n",
       "      <th>age</th>\n",
       "      <th>hypertension</th>\n",
       "      <th>heart_disease</th>\n",
       "      <th>avg_glucose_level</th>\n",
       "      <th>bmi</th>\n",
       "      <th>stroke</th>\n",
       "      <th>gender_Male</th>\n",
       "      <th>Residence_type_Urban</th>\n",
       "      <th>smoking_status_never smoked</th>\n",
       "      <th>smoking_status_smokes</th>\n",
       "    </tr>\n",
       "  </thead>\n",
       "  <tbody>\n",
       "    <tr>\n",
       "      <th>age</th>\n",
       "      <td>1.000000</td>\n",
       "      <td>0.232629</td>\n",
       "      <td>0.193394</td>\n",
       "      <td>0.108897</td>\n",
       "      <td>0.390721</td>\n",
       "      <td>0.261320</td>\n",
       "      <td>-0.032815</td>\n",
       "      <td>0.013268</td>\n",
       "      <td>0.136508</td>\n",
       "      <td>0.072485</td>\n",
       "    </tr>\n",
       "    <tr>\n",
       "      <th>hypertension</th>\n",
       "      <td>0.232629</td>\n",
       "      <td>1.000000</td>\n",
       "      <td>0.074178</td>\n",
       "      <td>0.122834</td>\n",
       "      <td>0.106665</td>\n",
       "      <td>0.145895</td>\n",
       "      <td>0.005416</td>\n",
       "      <td>0.002463</td>\n",
       "      <td>0.045020</td>\n",
       "      <td>0.024634</td>\n",
       "    </tr>\n",
       "    <tr>\n",
       "      <th>heart_disease</th>\n",
       "      <td>0.193394</td>\n",
       "      <td>0.074178</td>\n",
       "      <td>1.000000</td>\n",
       "      <td>0.137147</td>\n",
       "      <td>0.054583</td>\n",
       "      <td>0.111518</td>\n",
       "      <td>0.061787</td>\n",
       "      <td>0.007602</td>\n",
       "      <td>-0.013657</td>\n",
       "      <td>0.014982</td>\n",
       "    </tr>\n",
       "    <tr>\n",
       "      <th>avg_glucose_level</th>\n",
       "      <td>0.108897</td>\n",
       "      <td>0.122834</td>\n",
       "      <td>0.137147</td>\n",
       "      <td>1.000000</td>\n",
       "      <td>0.108142</td>\n",
       "      <td>0.149273</td>\n",
       "      <td>0.035514</td>\n",
       "      <td>-0.015051</td>\n",
       "      <td>-0.017859</td>\n",
       "      <td>0.026088</td>\n",
       "    </tr>\n",
       "    <tr>\n",
       "      <th>bmi</th>\n",
       "      <td>0.390721</td>\n",
       "      <td>0.106665</td>\n",
       "      <td>0.054583</td>\n",
       "      <td>0.108142</td>\n",
       "      <td>1.000000</td>\n",
       "      <td>0.065393</td>\n",
       "      <td>-0.015238</td>\n",
       "      <td>0.003404</td>\n",
       "      <td>0.125664</td>\n",
       "      <td>0.096367</td>\n",
       "    </tr>\n",
       "    <tr>\n",
       "      <th>stroke</th>\n",
       "      <td>0.261320</td>\n",
       "      <td>0.145895</td>\n",
       "      <td>0.111518</td>\n",
       "      <td>0.149273</td>\n",
       "      <td>0.065393</td>\n",
       "      <td>1.000000</td>\n",
       "      <td>0.014950</td>\n",
       "      <td>-0.000331</td>\n",
       "      <td>-0.001591</td>\n",
       "      <td>0.018455</td>\n",
       "    </tr>\n",
       "    <tr>\n",
       "      <th>gender_Male</th>\n",
       "      <td>-0.032815</td>\n",
       "      <td>0.005416</td>\n",
       "      <td>0.061787</td>\n",
       "      <td>0.035514</td>\n",
       "      <td>-0.015238</td>\n",
       "      <td>0.014950</td>\n",
       "      <td>1.000000</td>\n",
       "      <td>-0.002664</td>\n",
       "      <td>-0.108444</td>\n",
       "      <td>0.014276</td>\n",
       "    </tr>\n",
       "    <tr>\n",
       "      <th>Residence_type_Urban</th>\n",
       "      <td>0.013268</td>\n",
       "      <td>0.002463</td>\n",
       "      <td>0.007602</td>\n",
       "      <td>-0.015051</td>\n",
       "      <td>0.003404</td>\n",
       "      <td>-0.000331</td>\n",
       "      <td>-0.002664</td>\n",
       "      <td>1.000000</td>\n",
       "      <td>-0.005466</td>\n",
       "      <td>0.018898</td>\n",
       "    </tr>\n",
       "    <tr>\n",
       "      <th>smoking_status_never smoked</th>\n",
       "      <td>0.136508</td>\n",
       "      <td>0.045020</td>\n",
       "      <td>-0.013657</td>\n",
       "      <td>-0.017859</td>\n",
       "      <td>0.125664</td>\n",
       "      <td>-0.001591</td>\n",
       "      <td>-0.108444</td>\n",
       "      <td>-0.005466</td>\n",
       "      <td>1.000000</td>\n",
       "      <td>-0.336671</td>\n",
       "    </tr>\n",
       "    <tr>\n",
       "      <th>smoking_status_smokes</th>\n",
       "      <td>0.072485</td>\n",
       "      <td>0.024634</td>\n",
       "      <td>0.014982</td>\n",
       "      <td>0.026088</td>\n",
       "      <td>0.096367</td>\n",
       "      <td>0.018455</td>\n",
       "      <td>0.014276</td>\n",
       "      <td>0.018898</td>\n",
       "      <td>-0.336671</td>\n",
       "      <td>1.000000</td>\n",
       "    </tr>\n",
       "  </tbody>\n",
       "</table>\n",
       "</div>"
      ],
      "text/plain": [
       "                                  age  hypertension  heart_disease  \\\n",
       "age                          1.000000      0.232629       0.193394   \n",
       "hypertension                 0.232629      1.000000       0.074178   \n",
       "heart_disease                0.193394      0.074178       1.000000   \n",
       "avg_glucose_level            0.108897      0.122834       0.137147   \n",
       "bmi                          0.390721      0.106665       0.054583   \n",
       "stroke                       0.261320      0.145895       0.111518   \n",
       "gender_Male                 -0.032815      0.005416       0.061787   \n",
       "Residence_type_Urban         0.013268      0.002463       0.007602   \n",
       "smoking_status_never smoked  0.136508      0.045020      -0.013657   \n",
       "smoking_status_smokes        0.072485      0.024634       0.014982   \n",
       "\n",
       "                             avg_glucose_level       bmi    stroke  \\\n",
       "age                                   0.108897  0.390721  0.261320   \n",
       "hypertension                          0.122834  0.106665  0.145895   \n",
       "heart_disease                         0.137147  0.054583  0.111518   \n",
       "avg_glucose_level                     1.000000  0.108142  0.149273   \n",
       "bmi                                   0.108142  1.000000  0.065393   \n",
       "stroke                                0.149273  0.065393  1.000000   \n",
       "gender_Male                           0.035514 -0.015238  0.014950   \n",
       "Residence_type_Urban                 -0.015051  0.003404 -0.000331   \n",
       "smoking_status_never smoked          -0.017859  0.125664 -0.001591   \n",
       "smoking_status_smokes                 0.026088  0.096367  0.018455   \n",
       "\n",
       "                             gender_Male  Residence_type_Urban  \\\n",
       "age                            -0.032815              0.013268   \n",
       "hypertension                    0.005416              0.002463   \n",
       "heart_disease                   0.061787              0.007602   \n",
       "avg_glucose_level               0.035514             -0.015051   \n",
       "bmi                            -0.015238              0.003404   \n",
       "stroke                          0.014950             -0.000331   \n",
       "gender_Male                     1.000000             -0.002664   \n",
       "Residence_type_Urban           -0.002664              1.000000   \n",
       "smoking_status_never smoked    -0.108444             -0.005466   \n",
       "smoking_status_smokes           0.014276              0.018898   \n",
       "\n",
       "                             smoking_status_never smoked  \\\n",
       "age                                             0.136508   \n",
       "hypertension                                    0.045020   \n",
       "heart_disease                                  -0.013657   \n",
       "avg_glucose_level                              -0.017859   \n",
       "bmi                                             0.125664   \n",
       "stroke                                         -0.001591   \n",
       "gender_Male                                    -0.108444   \n",
       "Residence_type_Urban                           -0.005466   \n",
       "smoking_status_never smoked                     1.000000   \n",
       "smoking_status_smokes                          -0.336671   \n",
       "\n",
       "                             smoking_status_smokes  \n",
       "age                                       0.072485  \n",
       "hypertension                              0.024634  \n",
       "heart_disease                             0.014982  \n",
       "avg_glucose_level                         0.026088  \n",
       "bmi                                       0.096367  \n",
       "stroke                                    0.018455  \n",
       "gender_Male                               0.014276  \n",
       "Residence_type_Urban                      0.018898  \n",
       "smoking_status_never smoked              -0.336671  \n",
       "smoking_status_smokes                     1.000000  "
      ]
     },
     "metadata": {},
     "execution_count": 40
    }
   ],
   "metadata": {}
  },
  {
   "cell_type": "code",
   "execution_count": 41,
   "source": [
    "#看不出東西，所以先不刪任何欄位"
   ],
   "outputs": [],
   "metadata": {}
  },
  {
   "cell_type": "code",
   "execution_count": 42,
   "source": [
    "#Prepare training data"
   ],
   "outputs": [],
   "metadata": {}
  },
  {
   "cell_type": "code",
   "execution_count": 43,
   "source": [
    "X = df.drop(['stroke'],axis=1)"
   ],
   "outputs": [],
   "metadata": {}
  },
  {
   "cell_type": "code",
   "execution_count": 44,
   "source": [
    "y=df['stroke']"
   ],
   "outputs": [],
   "metadata": {}
  },
  {
   "cell_type": "code",
   "execution_count": 45,
   "source": [
    "from sklearn.model_selection import train_test_split"
   ],
   "outputs": [],
   "metadata": {}
  },
  {
   "cell_type": "code",
   "execution_count": 46,
   "source": [
    "X_train, X_test, y_train, y_test = train_test_split(X ,y, test_size=0.3, random_state=50)"
   ],
   "outputs": [],
   "metadata": {}
  },
  {
   "cell_type": "code",
   "execution_count": 47,
   "source": [
    "#調整random_state"
   ],
   "outputs": [],
   "metadata": {}
  },
  {
   "cell_type": "code",
   "execution_count": 48,
   "source": [
    "#using Logistic regression model"
   ],
   "outputs": [],
   "metadata": {}
  },
  {
   "cell_type": "code",
   "execution_count": 49,
   "source": [
    "from sklearn.linear_model import LogisticRegression"
   ],
   "outputs": [],
   "metadata": {}
  },
  {
   "cell_type": "code",
   "execution_count": 50,
   "source": [
    "lr=LogisticRegression(solver='lbfgs', max_iter=10000)"
   ],
   "outputs": [],
   "metadata": {}
  },
  {
   "cell_type": "code",
   "execution_count": 51,
   "source": [
    "lr.fit(X_train,y_train)"
   ],
   "outputs": [
    {
     "output_type": "execute_result",
     "data": {
      "text/html": [
       "<style>#sk-container-id-1 {color: black;background-color: white;}#sk-container-id-1 pre{padding: 0;}#sk-container-id-1 div.sk-toggleable {background-color: white;}#sk-container-id-1 label.sk-toggleable__label {cursor: pointer;display: block;width: 100%;margin-bottom: 0;padding: 0.3em;box-sizing: border-box;text-align: center;}#sk-container-id-1 label.sk-toggleable__label-arrow:before {content: \"▸\";float: left;margin-right: 0.25em;color: #696969;}#sk-container-id-1 label.sk-toggleable__label-arrow:hover:before {color: black;}#sk-container-id-1 div.sk-estimator:hover label.sk-toggleable__label-arrow:before {color: black;}#sk-container-id-1 div.sk-toggleable__content {max-height: 0;max-width: 0;overflow: hidden;text-align: left;background-color: #f0f8ff;}#sk-container-id-1 div.sk-toggleable__content pre {margin: 0.2em;color: black;border-radius: 0.25em;background-color: #f0f8ff;}#sk-container-id-1 input.sk-toggleable__control:checked~div.sk-toggleable__content {max-height: 200px;max-width: 100%;overflow: auto;}#sk-container-id-1 input.sk-toggleable__control:checked~label.sk-toggleable__label-arrow:before {content: \"▾\";}#sk-container-id-1 div.sk-estimator input.sk-toggleable__control:checked~label.sk-toggleable__label {background-color: #d4ebff;}#sk-container-id-1 div.sk-label input.sk-toggleable__control:checked~label.sk-toggleable__label {background-color: #d4ebff;}#sk-container-id-1 input.sk-hidden--visually {border: 0;clip: rect(1px 1px 1px 1px);clip: rect(1px, 1px, 1px, 1px);height: 1px;margin: -1px;overflow: hidden;padding: 0;position: absolute;width: 1px;}#sk-container-id-1 div.sk-estimator {font-family: monospace;background-color: #f0f8ff;border: 1px dotted black;border-radius: 0.25em;box-sizing: border-box;margin-bottom: 0.5em;}#sk-container-id-1 div.sk-estimator:hover {background-color: #d4ebff;}#sk-container-id-1 div.sk-parallel-item::after {content: \"\";width: 100%;border-bottom: 1px solid gray;flex-grow: 1;}#sk-container-id-1 div.sk-label:hover label.sk-toggleable__label {background-color: #d4ebff;}#sk-container-id-1 div.sk-serial::before {content: \"\";position: absolute;border-left: 1px solid gray;box-sizing: border-box;top: 0;bottom: 0;left: 50%;z-index: 0;}#sk-container-id-1 div.sk-serial {display: flex;flex-direction: column;align-items: center;background-color: white;padding-right: 0.2em;padding-left: 0.2em;position: relative;}#sk-container-id-1 div.sk-item {position: relative;z-index: 1;}#sk-container-id-1 div.sk-parallel {display: flex;align-items: stretch;justify-content: center;background-color: white;position: relative;}#sk-container-id-1 div.sk-item::before, #sk-container-id-1 div.sk-parallel-item::before {content: \"\";position: absolute;border-left: 1px solid gray;box-sizing: border-box;top: 0;bottom: 0;left: 50%;z-index: -1;}#sk-container-id-1 div.sk-parallel-item {display: flex;flex-direction: column;z-index: 1;position: relative;background-color: white;}#sk-container-id-1 div.sk-parallel-item:first-child::after {align-self: flex-end;width: 50%;}#sk-container-id-1 div.sk-parallel-item:last-child::after {align-self: flex-start;width: 50%;}#sk-container-id-1 div.sk-parallel-item:only-child::after {width: 0;}#sk-container-id-1 div.sk-dashed-wrapped {border: 1px dashed gray;margin: 0 0.4em 0.5em 0.4em;box-sizing: border-box;padding-bottom: 0.4em;background-color: white;}#sk-container-id-1 div.sk-label label {font-family: monospace;font-weight: bold;display: inline-block;line-height: 1.2em;}#sk-container-id-1 div.sk-label-container {text-align: center;}#sk-container-id-1 div.sk-container {/* jupyter's `normalize.less` sets `[hidden] { display: none; }` but bootstrap.min.css set `[hidden] { display: none !important; }` so we also need the `!important` here to be able to override the default hidden behavior on the sphinx rendered scikit-learn.org. See: https://github.com/scikit-learn/scikit-learn/issues/21755 */display: inline-block !important;position: relative;}#sk-container-id-1 div.sk-text-repr-fallback {display: none;}</style><div id=\"sk-container-id-1\" class=\"sk-top-container\"><div class=\"sk-text-repr-fallback\"><pre>LogisticRegression(max_iter=10000)</pre><b>In a Jupyter environment, please rerun this cell to show the HTML representation or trust the notebook. <br />On GitHub, the HTML representation is unable to render, please try loading this page with nbviewer.org.</b></div><div class=\"sk-container\" hidden><div class=\"sk-item\"><div class=\"sk-estimator sk-toggleable\"><input class=\"sk-toggleable__control sk-hidden--visually\" id=\"sk-estimator-id-1\" type=\"checkbox\" checked><label for=\"sk-estimator-id-1\" class=\"sk-toggleable__label sk-toggleable__label-arrow\">LogisticRegression</label><div class=\"sk-toggleable__content\"><pre>LogisticRegression(max_iter=10000)</pre></div></div></div></div></div>"
      ],
      "text/plain": [
       "LogisticRegression(max_iter=10000)"
      ]
     },
     "metadata": {},
     "execution_count": 51
    }
   ],
   "metadata": {}
  },
  {
   "cell_type": "code",
   "execution_count": 52,
   "source": [
    "predictions=lr.predict(X_test)"
   ],
   "outputs": [],
   "metadata": {}
  },
  {
   "cell_type": "code",
   "execution_count": 53,
   "source": [
    "#Evaluate"
   ],
   "outputs": [],
   "metadata": {}
  },
  {
   "cell_type": "code",
   "execution_count": 54,
   "source": [
    "from sklearn.metrics import confusion_matrix, accuracy_score, recall_score, precision_score"
   ],
   "outputs": [],
   "metadata": {}
  },
  {
   "cell_type": "code",
   "execution_count": 55,
   "source": [
    "accuracy_score(y_test,predictions)"
   ],
   "outputs": [
    {
     "output_type": "execute_result",
     "data": {
      "text/plain": [
       "0.9568815331010453"
      ]
     },
     "metadata": {},
     "execution_count": 55
    }
   ],
   "metadata": {}
  },
  {
   "cell_type": "code",
   "execution_count": 56,
   "source": [
    "recall_score(y_test,predictions)"
   ],
   "outputs": [
    {
     "output_type": "execute_result",
     "data": {
      "text/plain": [
       "0.030612244897959183"
      ]
     },
     "metadata": {},
     "execution_count": 56
    }
   ],
   "metadata": {}
  },
  {
   "cell_type": "code",
   "execution_count": 57,
   "source": [
    "precision_score(y_test,predictions)"
   ],
   "outputs": [
    {
     "output_type": "execute_result",
     "data": {
      "text/plain": [
       "0.42857142857142855"
      ]
     },
     "metadata": {},
     "execution_count": 57
    }
   ],
   "metadata": {}
  },
  {
   "cell_type": "code",
   "execution_count": 58,
   "source": [
    "pd.DataFrame(confusion_matrix(y_test,predictions),columns=['Predict not stroke', 'Predict stroke'],index=['True not stroke','True stroke'])"
   ],
   "outputs": [
    {
     "output_type": "execute_result",
     "data": {
      "text/html": [
       "<div>\n",
       "<style scoped>\n",
       "    .dataframe tbody tr th:only-of-type {\n",
       "        vertical-align: middle;\n",
       "    }\n",
       "\n",
       "    .dataframe tbody tr th {\n",
       "        vertical-align: top;\n",
       "    }\n",
       "\n",
       "    .dataframe thead th {\n",
       "        text-align: right;\n",
       "    }\n",
       "</style>\n",
       "<table border=\"1\" class=\"dataframe\">\n",
       "  <thead>\n",
       "    <tr style=\"text-align: right;\">\n",
       "      <th></th>\n",
       "      <th>Predict not stroke</th>\n",
       "      <th>Predict stroke</th>\n",
       "    </tr>\n",
       "  </thead>\n",
       "  <tbody>\n",
       "    <tr>\n",
       "      <th>True not stroke</th>\n",
       "      <td>4388</td>\n",
       "      <td>8</td>\n",
       "    </tr>\n",
       "    <tr>\n",
       "      <th>True stroke</th>\n",
       "      <td>190</td>\n",
       "      <td>6</td>\n",
       "    </tr>\n",
       "  </tbody>\n",
       "</table>\n",
       "</div>"
      ],
      "text/plain": [
       "                 Predict not stroke  Predict stroke\n",
       "True not stroke                4388               8\n",
       "True stroke                     190               6"
      ]
     },
     "metadata": {},
     "execution_count": 58
    }
   ],
   "metadata": {}
  },
  {
   "cell_type": "code",
   "execution_count": 59,
   "source": [
    "import joblib"
   ],
   "outputs": [],
   "metadata": {}
  },
  {
   "cell_type": "code",
   "execution_count": 60,
   "source": [
    "joblib.dump(lr,'stroke_prediction version2.pkl',compress=3)"
   ],
   "outputs": [
    {
     "output_type": "execute_result",
     "data": {
      "text/plain": [
       "['stroke_prediction version2.pkl']"
      ]
     },
     "metadata": {},
     "execution_count": 60
    }
   ],
   "metadata": {}
  }
 ],
 "nbformat": 4,
 "nbformat_minor": 2,
 "metadata": {
  "language_info": {
   "codemirror_mode": {
    "name": "ipython",
    "version": 3
   },
   "file_extension": ".py",
   "mimetype": "text/x-python",
   "name": "python",
   "nbconvert_exporter": "python",
   "pygments_lexer": "ipython3",
   "version": 3
  },
  "orig_nbformat": 4
 }
}